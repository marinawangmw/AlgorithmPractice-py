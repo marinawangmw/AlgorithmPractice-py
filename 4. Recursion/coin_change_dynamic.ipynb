{
 "cells": [
  {
   "cell_type": "markdown",
   "metadata": {},
   "source": [
    "# Wikipedia solution"
   ]
  },
  {
   "cell_type": "code",
   "execution_count": 1,
   "metadata": {},
   "outputs": [],
   "source": [
    "def _get_change_making_matrix(set_of_coins, r: int):\n",
    "    m = [[0 for _ in range(r + 1)] for _ in range(len(set_of_coins) + 1)]\n",
    "    for i in range(1, r + 1):\n",
    "        m[0][i] = float('inf')  # By default there is no way of making change\n",
    "    return m"
   ]
  },
  {
   "cell_type": "code",
   "execution_count": 3,
   "metadata": {},
   "outputs": [],
   "source": [
    "def change_making(coins, n: int,m):\n",
    "    \"\"\"This function assumes that all coins are available infinitely.\n",
    "    n is the number to obtain with the fewest coins.\n",
    "    coins is a list or tuple with the available denominations.\n",
    "    \"\"\"\n",
    "    #m = _get_change_making_matrix(coins, n)\n",
    "    for c in range(1, len(coins) + 1):\n",
    "        for r in range(1, n + 1):\n",
    "            # Just use the coin coins[c - 1].\n",
    "            if coins[c - 1] == r:\n",
    "                m[c][r] = 1\n",
    "            # coins[c - 1] cannot be included.\n",
    "            # Use the previous solution for making r,\n",
    "            # excluding coins[c - 1].\n",
    "            elif coins[c - 1] > r:\n",
    "                m[c][r] = m[c - 1][r]\n",
    "            # coins[c - 1] can be used.\n",
    "            # Decide which one of the following solutions is the best:\n",
    "            # 1. Using the previous solution for making r (without using coins[c - 1]).\n",
    "            # 2. Using the previous solution for making r - coins[c - 1] (without\n",
    "            #      using coins[c - 1]) plus this 1 extra coin.\n",
    "            else:\n",
    "                m[c][r] = min(m[c - 1][r], 1 + m[c][r - coins[c - 1]])\n",
    "    return m[-1][-1]"
   ]
  },
  {
   "cell_type": "code",
   "execution_count": 17,
   "metadata": {},
   "outputs": [
    {
     "name": "stdout",
     "output_type": "stream",
     "text": [
      "2\n",
      "[[0, inf, inf, inf, inf, inf, inf, inf, inf, inf, inf], [0, 1, 2, 3, 4, 5, 6, 7, 8, 9, 10], [0, 1, 1, 2, 2, 3, 3, 4, 4, 5, 5], [0, 1, 1, 2, 2, 1, 2, 2, 3, 3, 2]]\n"
     ]
    }
   ],
   "source": [
    "coins = [1,2,5]\n",
    "target = 10\n",
    "minCoins = [None]*(target+1)\n",
    "cache = _get_change_making_matrix(coins, target)\n",
    "print(change_making(coins,target,cache))\n",
    "print(cache)\n"
   ]
  },
  {
   "cell_type": "code",
   "execution_count": 8,
   "metadata": {},
   "outputs": [
    {
     "data": {
      "text/plain": [
       "inf"
      ]
     },
     "execution_count": 8,
     "metadata": {},
     "output_type": "execute_result"
    }
   ],
   "source": [
    "cache[0][2]"
   ]
  },
  {
   "cell_type": "markdown",
   "metadata": {},
   "source": [
    "# Dynamic Solution\n",
    "Muy similar a la solucion con memoization, exceptuando la parte recursiva"
   ]
  },
  {
   "cell_type": "code",
   "execution_count": 45,
   "metadata": {},
   "outputs": [],
   "source": [
    "def dpMakeChange(coinValueList,change,minCoins):\n",
    "   \n",
    "    # para cada valor de 0 al target (llamado cents)\n",
    "    for cents in range(change+1):  \n",
    "        \n",
    "        coinCount = cents\n",
    "        # Calcula cant monedas para cada valor de 0 al target (cents)\n",
    "        #?? por que no tira error?\n",
    "        for j in [c for c in coinValueList if c <= cents]:\n",
    "            \n",
    "            if minCoins[cents-j] + 1 < coinCount:\n",
    "                coinCount = minCoins[cents-j]+1\n",
    "                \n",
    "        minCoins[cents] = coinCount\n",
    "    \n",
    "    return minCoins[change]"
   ]
  },
  {
   "cell_type": "code",
   "execution_count": 46,
   "metadata": {},
   "outputs": [
    {
     "name": "stdout",
     "output_type": "stream",
     "text": [
      "3\n",
      "[0, 1, 1, 2, 2, 1, 2, 2, 3, 3, 2]\n"
     ]
    }
   ],
   "source": [
    "target = 9\n",
    "print(dpMakeChange(coins,target,minCoins))\n",
    "print(minCoins)"
   ]
  },
  {
   "cell_type": "code",
   "execution_count": 2,
   "metadata": {},
   "outputs": [],
   "source": [
    "#def dyn_coins(target,coins,minCoins):\n",
    "#    \n",
    "#    #if minCoins[target] > 0:\n",
    "#     #   return minCoins[target]\n",
    "#    \n",
    "#    for subTarget in range(target+1):\n",
    "#        coinsCount = minCoins # Worst case scenario\n",
    "#        \n",
    "#        for coin in (c for c in range(len(coins)+1) if c <= subTarget):\n",
    "#            if minCoins[subTarget-coin]+1 < subTarget:\n",
    "#                coinsCount = minCoins[subTarget-coin]+1\n",
    "#                \n",
    "#        minCoins[subTarget] = coinsCount\n",
    "#        \n",
    "#    return minCoins[subTarget]\n"
   ]
  },
  {
   "cell_type": "code",
   "execution_count": 5,
   "metadata": {},
   "outputs": [],
   "source": [
    "def dpMakeChange(coinValueList,change,minCoins,coinsUsed):\n",
    "   for cents in range(change+1):# Para cada target\n",
    "      coinCount = cents\n",
    "      newCoin = 1\n",
    "      for j in [c for c in coinValueList if c <= cents]: # Para cada coin <= target\n",
    "            if minCoins[cents-j] + 1 < coinCount:\n",
    "               coinCount = minCoins[cents-j]+1\n",
    "               newCoin = j \n",
    "      minCoins[cents] = coinCount\n",
    "      coinsUsed[cents] = newCoin\n",
    "   return minCoins[change]\n",
    "\n",
    "def printCoins(coinsUsed,change):\n",
    "   target = change\n",
    "   while coin > 0:\n",
    "      thisCoin = coinsUsed[target]\n",
    "      print(thisCoin)\n",
    "      target = target - thisCoin\n",
    "\n",
    "def main():\n",
    "    target = 63\n",
    "    clist = [1,5,10,21,25]\n",
    "    coinsUsed = [0]*(target+1)\n",
    "    coinCount = [0]*(target+1)\n",
    "\n",
    "    print(\"Making change for\",target,\"requires\")\n",
    "    print(dpMakeChange(clist,target,coinCount,coinsUsed),\"coins\")\n",
    "    print(\"They are:\")\n",
    "    printCoins(coinsUsed,target)\n",
    "    print(\"The used list is as follows:\")\n",
    "    print(coinsUsed)\n",
    "\n"
   ]
  },
  {
   "cell_type": "code",
   "execution_count": 4,
   "metadata": {},
   "outputs": [
    {
     "name": "stdout",
     "output_type": "stream",
     "text": [
      "Making change for 63 requires\n",
      "3 coins\n",
      "They are:\n",
      "21\n",
      "21\n",
      "21\n",
      "The used list is as follows:\n",
      "[1, 1, 1, 1, 1, 5, 1, 1, 1, 1, 10, 1, 1, 1, 1, 5, 1, 1, 1, 1, 10, 21, 1, 1, 1, 25, 1, 1, 1, 1, 5, 10, 1, 1, 1, 10, 1, 1, 1, 1, 5, 10, 21, 1, 1, 10, 21, 1, 1, 1, 25, 1, 10, 1, 1, 5, 10, 1, 1, 1, 10, 1, 10, 21]\n"
     ]
    }
   ],
   "source": [
    "main()"
   ]
  },
  {
   "cell_type": "code",
   "execution_count": null,
   "metadata": {},
   "outputs": [],
   "source": []
  }
 ],
 "metadata": {
  "kernelspec": {
   "display_name": "Python 3",
   "language": "python",
   "name": "python3"
  },
  "language_info": {
   "codemirror_mode": {
    "name": "ipython",
    "version": 3
   },
   "file_extension": ".py",
   "mimetype": "text/x-python",
   "name": "python",
   "nbconvert_exporter": "python",
   "pygments_lexer": "ipython3",
   "version": "3.7.3"
  }
 },
 "nbformat": 4,
 "nbformat_minor": 2
}
